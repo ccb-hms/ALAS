{
 "cells": [
  {
   "cell_type": "code",
   "execution_count": null,
   "metadata": {},
   "outputs": [],
   "source": [
    "%pip install llama-index\n",
    "%pip install llama-index-llms\n",
    "%pip install llama-index-embeddings\n",
    "%pip install dotenv"
   ]
  },
  {
   "cell_type": "markdown",
   "metadata": {},
   "source": [
    "## Load Credentials"
   ]
  },
  {
   "cell_type": "code",
   "execution_count": 2,
   "metadata": {},
   "outputs": [],
   "source": [
    "from __future__ import print_function\n",
    "import logging\n",
    "import sys\n",
    "import os\n",
    "from dotenv import load_dotenv\n",
    "from llama_index.core import ( Settings, VectorStoreIndex, SimpleDirectoryReader, ServiceContext, StorageContext, load_index_from_storage)\n",
    "from llama_index.core.callbacks import CallbackManager\n",
    "from llama_index.core.node_parser import SentenceWindowNodeParser\n",
    "from llama_index.core.postprocessor import MetadataReplacementPostProcessor\n",
    "from llama_index.embeddings.azure_openai import AzureOpenAIEmbedding\n",
    "from llama_index.llms.azure_openai import AzureOpenAI\n",
    "\n",
    "logging.getLogger().setLevel(logging.WARNING)\n",
    "\n",
    "load_dotenv('../Credentials/.env')\n",
    "\n",
    "endpoint = os.getenv(\"AZURE_OPENAI_ENDPOINT\")\n",
    "credential = os.getenv(\"AZURE_OPENAI_API_KEY\")\n",
    "azure_openai_api_version = \"2024-04-01-preview\"\n",
    "azure_openai_embedding_deployment = \"text-embedding-ada-002\"\n",
    "embedding_model_name = \"text-embedding-ada-002\"\n",
    "llm_model_name = \"gpt-35-turbo-16k\"\n",
    "api_type = \"azure\""
   ]
  },
  {
   "cell_type": "markdown",
   "metadata": {},
   "source": [
    "## Load Documents"
   ]
  },
  {
   "cell_type": "code",
   "execution_count": 4,
   "metadata": {},
   "outputs": [
    {
     "name": "stderr",
     "output_type": "stream",
     "text": [
      "/Users/sam/Library/Python/3.9/lib/python/site-packages/transformers/models/vit/feature_extraction_vit.py:28: FutureWarning: The class ViTFeatureExtractor is deprecated and will be removed in version 5 of Transformers. Please use ViTImageProcessor instead.\n",
      "  warnings.warn(\n"
     ]
    },
    {
     "name": "stdout",
     "output_type": "stream",
     "text": [
      "Failed to load file ../Data/course113113/downloads/2-7-23~1.PPT with error: The expanded size of the tensor (16) must match the existing size (13) at non-singleton dimension 0.  Target sizes: [16].  Tensor sizes: [13]. Skipping...\n",
      "Failed to load file ../Data/course113113/downloads/2-9-23~1.PPT with error: The expanded size of the tensor (16) must match the existing size (14) at non-singleton dimension 0.  Target sizes: [16].  Tensor sizes: [14]. Skipping...\n"
     ]
    }
   ],
   "source": [
    "reader = SimpleDirectoryReader(\"../Data/\", recursive=True, filename_as_id=True, required_exts=[\".pdf\", \".docx\", \".xlsx\", \".pptx\"])\n",
    "\n",
    "documents = []\n",
    "for docs in reader.iter_data():\n",
    "    documents.extend(docs)        "
   ]
  },
  {
   "cell_type": "code",
   "execution_count": 9,
   "metadata": {},
   "outputs": [
    {
     "data": {
      "text/plain": [
       "{'page_label': '1',\n",
       " 'file_name': '1-s2.0-S1538544221000821-main.pdf',\n",
       " 'file_path': '../Data/course113113/downloads/1-s2.0-S1538544221000821-main.pdf',\n",
       " 'file_type': 'application/pdf',\n",
       " 'file_size': 719173,\n",
       " 'creation_date': '2024-04-16',\n",
       " 'last_modified_date': '2024-04-16',\n",
       " 'last_accessed_date': '2024-04-30'}"
      ]
     },
     "execution_count": 9,
     "metadata": {},
     "output_type": "execute_result"
    }
   ],
   "source": [
    "documents[0].metadata"
   ]
  },
  {
   "cell_type": "markdown",
   "metadata": {},
   "source": [
    "## Node Parsing"
   ]
  },
  {
   "cell_type": "code",
   "execution_count": 5,
   "metadata": {},
   "outputs": [],
   "source": [
    "# create the sentence window node parser w/ default settings\n",
    "sentence_node_parser = SentenceWindowNodeParser.from_defaults(\n",
    "    window_size=3,\n",
    "    window_metadata_key=\"window\",\n",
    "    original_text_metadata_key=\"original_text\"\n",
    ")\n",
    "\n",
    "nodes = sentence_node_parser.get_nodes_from_documents(documents)"
   ]
  },
  {
   "cell_type": "markdown",
   "metadata": {},
   "source": [
    "## Create Index"
   ]
  },
  {
   "cell_type": "code",
   "execution_count": 6,
   "metadata": {},
   "outputs": [
    {
     "name": "stdout",
     "output_type": "stream",
     "text": [
      "Index created\n"
     ]
    }
   ],
   "source": [
    "llm = AzureOpenAI(\n",
    "            model = llm_model_name,\n",
    "            deployment_name = llm_model_name,\n",
    "            api_key = credential,\n",
    "            azure_endpoint = endpoint,\n",
    "            api_version = azure_openai_api_version,\n",
    "            api_type = api_type\n",
    "        )\n",
    "\n",
    "embed_model = AzureOpenAIEmbedding(\n",
    "            model = embedding_model_name,\n",
    "            deployment_name = embedding_model_name,\n",
    "            api_key = credential,\n",
    "            azure_endpoint = endpoint,\n",
    "            api_version = azure_openai_api_version,\n",
    "            api_type = api_type,\n",
    "            embed_batch_size=50\n",
    "        )\n",
    "\n",
    "Settings.llm = llm\n",
    "Settings.embed_model = embed_model\n",
    "\n",
    "callback_manager = CallbackManager()\n",
    "\n",
    "index = VectorStoreIndex(nodes)\n",
    "\n",
    "print(\"Index created\")"
   ]
  },
  {
   "cell_type": "markdown",
   "metadata": {},
   "source": [
    "## Save to Persistent Storage\n",
    "\n",
    "In case you want to load your index later, saving you from having to re-parse your documents every time"
   ]
  },
  {
   "cell_type": "code",
   "execution_count": 7,
   "metadata": {},
   "outputs": [
    {
     "name": "stderr",
     "output_type": "stream",
     "text": [
      "Saving to Persistent Storage\n"
     ]
    }
   ],
   "source": [
    "index.storage_context.persist(persist_dir=\"../Data/course113113_index\")"
   ]
  },
  {
   "cell_type": "markdown",
   "metadata": {},
   "source": [
    "## Create Query Engine, Ask a Question"
   ]
  },
  {
   "cell_type": "code",
   "execution_count": 8,
   "metadata": {},
   "outputs": [
    {
     "name": "stdout",
     "output_type": "stream",
     "text": [
      "Hemodynamics refers to the study of the forces and pressures involved in the circulation of blood within the cardiovascular system. It involves the evaluation of various parameters such as blood pressure, cardiac output, and stroke volume, which are crucial in maintaining the normal functioning of the heart and blood vessels. Understanding hemodynamics helps in assessing the compensation and homeostasis of the cardiovascular system and can guide interventions to restore normal blood flow and pressure.\n"
     ]
    }
   ],
   "source": [
    "query_engine = index.as_query_engine(similarity_top_k=5)\n",
    "\n",
    "query = (\n",
    "    'Give me a 3 sentence summary of Hemodynamics'\n",
    ")\n",
    "\n",
    "query_response = query_engine.query(\n",
    "    query\n",
    ")\n",
    "\n",
    "print(query_response)"
   ]
  }
 ],
 "metadata": {
  "kernelspec": {
   "display_name": "Python 3",
   "language": "python",
   "name": "python3"
  },
  "language_info": {
   "codemirror_mode": {
    "name": "ipython",
    "version": 3
   },
   "file_extension": ".py",
   "mimetype": "text/x-python",
   "name": "python",
   "nbconvert_exporter": "python",
   "pygments_lexer": "ipython3",
   "version": "3.12.2"
  }
 },
 "nbformat": 4,
 "nbformat_minor": 2
}
